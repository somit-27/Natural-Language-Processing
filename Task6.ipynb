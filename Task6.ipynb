{
 "cells": [
  {
   "cell_type": "code",
   "execution_count": 1,
   "metadata": {},
   "outputs": [],
   "source": [
    "import spacy\n",
    "import indic"
   ]
  },
  {
   "cell_type": "code",
   "execution_count": 2,
   "metadata": {},
   "outputs": [],
   "source": [
    "m = spacy.load('en_core_web_sm')"
   ]
  },
  {
   "cell_type": "code",
   "execution_count": 3,
   "metadata": {},
   "outputs": [],
   "source": [
    "import nltk"
   ]
  },
  {
   "cell_type": "code",
   "execution_count": 4,
   "metadata": {},
   "outputs": [],
   "source": [
    "sentence = \"The little yellow dog barked at the cat\"\n",
    "from nltk.tokenize import word_tokenize\n",
    "tokens = word_tokenize(sentence)"
   ]
  },
  {
   "cell_type": "code",
   "execution_count": 5,
   "metadata": {},
   "outputs": [
    {
     "data": {
      "text/plain": [
       "['The', 'little', 'yellow', 'dog', 'barked', 'at', 'the', 'cat']"
      ]
     },
     "execution_count": 5,
     "metadata": {},
     "output_type": "execute_result"
    }
   ],
   "source": [
    "tokens"
   ]
  },
  {
   "cell_type": "code",
   "execution_count": 6,
   "metadata": {},
   "outputs": [
    {
     "name": "stdout",
     "output_type": "stream",
     "text": [
      "[('The', 'DET'), ('little', 'ADJ'), ('yellow', 'ADJ'), ('dog', 'NOUN'), ('barked', 'VERB'), ('at', 'ADP'), ('the', 'DET'), ('cat', 'NOUN')]\n"
     ]
    }
   ],
   "source": [
    "tags = nltk.pos_tag(tokens,tagset = \"universal\")\n",
    "print(tags)"
   ]
  },
  {
   "cell_type": "code",
   "execution_count": 7,
   "metadata": {},
   "outputs": [],
   "source": [
    "grammar = \"NP: {<DET>?<ADJ>*<NOUN>}\""
   ]
  },
  {
   "cell_type": "code",
   "execution_count": 8,
   "metadata": {},
   "outputs": [],
   "source": [
    "cp = nltk.RegexpParser(grammar)"
   ]
  },
  {
   "cell_type": "code",
   "execution_count": 9,
   "metadata": {},
   "outputs": [
    {
     "data": {
      "text/plain": [
       "[('The', 'DET'),\n",
       " ('little', 'ADJ'),\n",
       " ('yellow', 'ADJ'),\n",
       " ('dog', 'NOUN'),\n",
       " ('barked', 'VERB'),\n",
       " ('at', 'ADP'),\n",
       " ('the', 'DET'),\n",
       " ('cat', 'NOUN')]"
      ]
     },
     "execution_count": 9,
     "metadata": {},
     "output_type": "execute_result"
    }
   ],
   "source": [
    "result = cp.parse(tags)\n",
    "tags"
   ]
  },
  {
   "cell_type": "code",
   "execution_count": 10,
   "metadata": {},
   "outputs": [],
   "source": [
    "result.draw()"
   ]
  },
  {
   "cell_type": "code",
   "execution_count": 11,
   "metadata": {},
   "outputs": [
    {
     "name": "stdout",
     "output_type": "stream",
     "text": [
      "(S\n",
      "  (NP The/DET little/ADJ yellow/ADJ dog/NOUN)\n",
      "  barked/VERB\n",
      "  at/ADP\n",
      "  (NP the/DET cat/NOUN))\n"
     ]
    }
   ],
   "source": [
    "print(result)"
   ]
  },
  {
   "cell_type": "code",
   "execution_count": 12,
   "metadata": {},
   "outputs": [
    {
     "data": {
      "text/html": [
       "<div>\n",
       "<style scoped>\n",
       "    .dataframe tbody tr th:only-of-type {\n",
       "        vertical-align: middle;\n",
       "    }\n",
       "\n",
       "    .dataframe tbody tr th {\n",
       "        vertical-align: top;\n",
       "    }\n",
       "\n",
       "    .dataframe thead th {\n",
       "        text-align: right;\n",
       "    }\n",
       "</style>\n",
       "<table border=\"1\" class=\"dataframe\">\n",
       "  <thead>\n",
       "    <tr style=\"text-align: right;\">\n",
       "      <th></th>\n",
       "      <th>review</th>\n",
       "      <th>sentiment</th>\n",
       "    </tr>\n",
       "  </thead>\n",
       "  <tbody>\n",
       "    <tr>\n",
       "      <th>0</th>\n",
       "      <td>One of the other reviewers has mentioned that ...</td>\n",
       "      <td>positive</td>\n",
       "    </tr>\n",
       "    <tr>\n",
       "      <th>1</th>\n",
       "      <td>A wonderful little production. &lt;br /&gt;&lt;br /&gt;The...</td>\n",
       "      <td>positive</td>\n",
       "    </tr>\n",
       "    <tr>\n",
       "      <th>2</th>\n",
       "      <td>I thought this was a wonderful way to spend ti...</td>\n",
       "      <td>positive</td>\n",
       "    </tr>\n",
       "    <tr>\n",
       "      <th>3</th>\n",
       "      <td>Basically there's a family where a little boy ...</td>\n",
       "      <td>negative</td>\n",
       "    </tr>\n",
       "    <tr>\n",
       "      <th>4</th>\n",
       "      <td>Petter Mattei's \"Love in the Time of Money\" is...</td>\n",
       "      <td>positive</td>\n",
       "    </tr>\n",
       "  </tbody>\n",
       "</table>\n",
       "</div>"
      ],
      "text/plain": [
       "                                              review sentiment\n",
       "0  One of the other reviewers has mentioned that ...  positive\n",
       "1  A wonderful little production. <br /><br />The...  positive\n",
       "2  I thought this was a wonderful way to spend ti...  positive\n",
       "3  Basically there's a family where a little boy ...  negative\n",
       "4  Petter Mattei's \"Love in the Time of Money\" is...  positive"
      ]
     },
     "execution_count": 12,
     "metadata": {},
     "output_type": "execute_result"
    }
   ],
   "source": [
    "import pandas as pd\n",
    "df = pd.read_csv(\"IMDB Dataset.csv\")\n",
    "df.head()"
   ]
  },
  {
   "cell_type": "code",
   "execution_count": 13,
   "metadata": {},
   "outputs": [],
   "source": [
    "passage =\"Formula One (more commonly known as Formula 1 or F1) is the highest class of international racing for open-wheel single-seater formula racing cars sanctioned by the Fédération Internationale de l'Automobile (FIA). The FIA Formula One World Championship has been one of the premier forms of racing around the world since its inaugural season in 1950. The word formula in the name refers to the set of rules to which all participants' cars must conform. A Formula One season consists of a series of races, known as Grands Prix. Grands Prix take place in multiple countries and continents around the world on either purpose-built circuits or closed public roads.\"\n",
    "\n",
    "sentences = nltk.sent_tokenize(passage)\n",
    "tagged_sentences = []\n",
    "for sentence in sentences:\n",
    "    words = nltk.word_tokenize(sentence)\n",
    "    tags = nltk.pos_tag(words)\n",
    "    tagged_sentences.append(tags)"
   ]
  },
  {
   "cell_type": "code",
   "execution_count": 14,
   "metadata": {},
   "outputs": [
    {
     "name": "stdout",
     "output_type": "stream",
     "text": [
      "(S\n",
      "  Formula/NNP\n",
      "  One/CD\n",
      "  (/(\n",
      "  more/RBR\n",
      "  commonly/RB\n",
      "  known/VBN\n",
      "  as/IN\n",
      "  Formula/NNP\n",
      "  1/CD\n",
      "  or/CC\n",
      "  F1/NNP\n",
      "  )/)\n",
      "  is/VBZ\n",
      "  the/DT\n",
      "  highest/JJS\n",
      "  class/NN\n",
      "  of/IN\n",
      "  international/JJ\n",
      "  racing/NN\n",
      "  for/IN\n",
      "  open-wheel/JJ\n",
      "  single-seater/JJ\n",
      "  formula/NN\n",
      "  racing/VBG\n",
      "  cars/NNS\n",
      "  sanctioned/VBN\n",
      "  by/IN\n",
      "  the/DT\n",
      "  Fédération/NNP\n",
      "  Internationale/NNP\n",
      "  de/FW\n",
      "  l'Automobile/FW\n",
      "  (/(\n",
      "  FIA/NNP\n",
      "  )/)\n",
      "  ./.)\n",
      "\n",
      "\n",
      "\n",
      "(S\n",
      "  The/DT\n",
      "  FIA/NNP\n",
      "  Formula/NNP\n",
      "  One/NNP\n",
      "  World/NNP\n",
      "  Championship/NNP\n",
      "  has/VBZ\n",
      "  been/VBN\n",
      "  one/CD\n",
      "  of/IN\n",
      "  the/DT\n",
      "  premier/JJR\n",
      "  forms/NNS\n",
      "  of/IN\n",
      "  racing/VBG\n",
      "  around/IN\n",
      "  the/DT\n",
      "  world/NN\n",
      "  since/IN\n",
      "  its/PRP$\n",
      "  inaugural/JJ\n",
      "  season/NN\n",
      "  in/IN\n",
      "  1950/CD\n",
      "  ./.)\n",
      "\n",
      "\n",
      "\n",
      "(S\n",
      "  The/DT\n",
      "  word/NN\n",
      "  formula/NN\n",
      "  in/IN\n",
      "  the/DT\n",
      "  name/NN\n",
      "  refers/NNS\n",
      "  to/TO\n",
      "  the/DT\n",
      "  set/NN\n",
      "  of/IN\n",
      "  rules/NNS\n",
      "  to/TO\n",
      "  which/WDT\n",
      "  all/DT\n",
      "  participants/NNS\n",
      "  '/POS\n",
      "  cars/NNS\n",
      "  must/MD\n",
      "  conform/VB\n",
      "  ./.)\n",
      "\n",
      "\n",
      "\n",
      "(S\n",
      "  A/DT\n",
      "  Formula/NNP\n",
      "  One/CD\n",
      "  season/NN\n",
      "  consists/VBZ\n",
      "  of/IN\n",
      "  a/DT\n",
      "  series/NN\n",
      "  of/IN\n",
      "  races/NNS\n",
      "  ,/,\n",
      "  known/VBN\n",
      "  as/IN\n",
      "  Grands/NNP\n",
      "  Prix/NNP\n",
      "  ./.)\n",
      "\n",
      "\n",
      "\n",
      "(S\n",
      "  Grands/VBZ\n",
      "  Prix/NNP\n",
      "  take/VB\n",
      "  place/NN\n",
      "  in/IN\n",
      "  multiple/JJ\n",
      "  countries/NNS\n",
      "  and/CC\n",
      "  continents/NNS\n",
      "  around/IN\n",
      "  the/DT\n",
      "  world/NN\n",
      "  on/IN\n",
      "  either/DT\n",
      "  purpose-built/JJ\n",
      "  circuits/NNS\n",
      "  or/CC\n",
      "  closed/VBD\n",
      "  public/JJ\n",
      "  roads/NNS\n",
      "  ./.)\n",
      "\n",
      "\n",
      "\n"
     ]
    }
   ],
   "source": [
    "for taggedSentence in tagged_sentences:\n",
    "    result = cp.parse(taggedSentence)\n",
    "    print(result)\n",
    "    print(\"\\n\\n\")"
   ]
  },
  {
   "cell_type": "code",
   "execution_count": null,
   "metadata": {},
   "outputs": [],
   "source": []
  }
 ],
 "metadata": {
  "kernelspec": {
   "display_name": "Python 3",
   "language": "python",
   "name": "python3"
  },
  "language_info": {
   "codemirror_mode": {
    "name": "ipython",
    "version": 3
   },
   "file_extension": ".py",
   "mimetype": "text/x-python",
   "name": "python",
   "nbconvert_exporter": "python",
   "pygments_lexer": "ipython3",
   "version": "3.11.1"
  },
  "orig_nbformat": 4
 },
 "nbformat": 4,
 "nbformat_minor": 2
}
