{
 "cells": [
  {
   "cell_type": "code",
   "execution_count": 29,
   "metadata": {},
   "outputs": [],
   "source": [
    "from sklearn.feature_extraction.text import CountVectorizer\n",
    "vect = CountVectorizer(binary = True)"
   ]
  },
  {
   "cell_type": "code",
   "execution_count": 30,
   "metadata": {},
   "outputs": [],
   "source": [
    "corpus = [\"Severe Tropical Cyclone Gabrielle was a tropical cyclone affecting New Zealand and Norfolk Island in February 2023. The fifth named storm of the 2022–23 Australian region cyclone season, and first severe tropical cyclone of the 2022–23 South Pacific cyclone season, Gabrielle was first noted as a developing tropical low on 6 February, while it was located to the south of the Solomon Islands before it was classified as a tropical cyclone and named Gabrielle by the Australian Bureau of Meteorology. The system reached a Category 3 severe tropical cyclone, before moving into the South Pacific basin, then rapidly degenerated into a subtropical low on 11 February.Norfolk Island was placed under a red alert as Gabrielle approached, while heavy rain and wind warnings were issued across the North Island of New Zealand. States of emergency that were already in place in Auckland and the Coromandel as a result of the 2023 North Island floods were extended, and new states of emergency were declared in other areas. The cyclone impacted New Zealand from 12 February to 16 February, with a national state of emergency being declared in the country on 14 February.\",\n",
    "\"On 6 February, the Australian Bureau of Meteorology (BoM) reported that Tropical Low 14U had developed within a monsoonal trough of low pressure over the northeastern Coral Sea near the Solomon Islands. At this stage, the system was located within a favourable environment for further development with low vertical wind shear of 10–30 km/h (5–15 mph) and warm sea surface temperatures of 29–30 °C (84–86 °F). Over the next couple of days, the system gradually developed further as it moved south-westwards along a ridge of high pressure towards Queensland, Australia, before the United States Joint Typhoon Warning Center initiated advisories and classified it as Tropical Cyclone 12P during 8 February. At around the same time, the BoM reported that the tropical low had developed into a Category 1 tropical cyclone on the Australian tropical cyclone intensity scale and named it Gabrielle.\",\"Gabrielle slowly drifted southwards while deep convection consolidated, and the cyclone was upgraded into a Category 2 tropical cyclone, while the JTWC upgraded Gabrielle to the equivalent of a low-end Category 1-equivalent cyclone with winds of 120 km/h (75 mph). By 18:00 UTC on 9 February, the storm continued to intensify and soon became a Category 3 severe tropical cyclone. Later the next day, the cyclone subsequently crossed 160°E, where it moved out of the Australian region and into the South Pacific basin where it became a Category 2-equivalent cyclone. Gabrielle began to experience an increase in northwesterly vertical wind shear, the JTWC downgraded it to a Category 1-equivalent cyclone. On 10 February, Gabrielle moved into MetService's area of responsibility. The JTWC also discontinued warnings on the system around 21:00 UTC that day Gabrielle was downgraded to a Category 2 tropical cyclone by the MetService. During 11 February, after Gabrielle had passed directly over Norfolk Island, the BoM and MetService reported that Gabrielle had transitoned into a deep subtropical low\"]"
   ]
  },
  {
   "cell_type": "code",
   "execution_count": 31,
   "metadata": {},
   "outputs": [
    {
     "data": {
      "text/html": [
       "<style>#sk-container-id-4 {color: black;background-color: white;}#sk-container-id-4 pre{padding: 0;}#sk-container-id-4 div.sk-toggleable {background-color: white;}#sk-container-id-4 label.sk-toggleable__label {cursor: pointer;display: block;width: 100%;margin-bottom: 0;padding: 0.3em;box-sizing: border-box;text-align: center;}#sk-container-id-4 label.sk-toggleable__label-arrow:before {content: \"▸\";float: left;margin-right: 0.25em;color: #696969;}#sk-container-id-4 label.sk-toggleable__label-arrow:hover:before {color: black;}#sk-container-id-4 div.sk-estimator:hover label.sk-toggleable__label-arrow:before {color: black;}#sk-container-id-4 div.sk-toggleable__content {max-height: 0;max-width: 0;overflow: hidden;text-align: left;background-color: #f0f8ff;}#sk-container-id-4 div.sk-toggleable__content pre {margin: 0.2em;color: black;border-radius: 0.25em;background-color: #f0f8ff;}#sk-container-id-4 input.sk-toggleable__control:checked~div.sk-toggleable__content {max-height: 200px;max-width: 100%;overflow: auto;}#sk-container-id-4 input.sk-toggleable__control:checked~label.sk-toggleable__label-arrow:before {content: \"▾\";}#sk-container-id-4 div.sk-estimator input.sk-toggleable__control:checked~label.sk-toggleable__label {background-color: #d4ebff;}#sk-container-id-4 div.sk-label input.sk-toggleable__control:checked~label.sk-toggleable__label {background-color: #d4ebff;}#sk-container-id-4 input.sk-hidden--visually {border: 0;clip: rect(1px 1px 1px 1px);clip: rect(1px, 1px, 1px, 1px);height: 1px;margin: -1px;overflow: hidden;padding: 0;position: absolute;width: 1px;}#sk-container-id-4 div.sk-estimator {font-family: monospace;background-color: #f0f8ff;border: 1px dotted black;border-radius: 0.25em;box-sizing: border-box;margin-bottom: 0.5em;}#sk-container-id-4 div.sk-estimator:hover {background-color: #d4ebff;}#sk-container-id-4 div.sk-parallel-item::after {content: \"\";width: 100%;border-bottom: 1px solid gray;flex-grow: 1;}#sk-container-id-4 div.sk-label:hover label.sk-toggleable__label {background-color: #d4ebff;}#sk-container-id-4 div.sk-serial::before {content: \"\";position: absolute;border-left: 1px solid gray;box-sizing: border-box;top: 0;bottom: 0;left: 50%;z-index: 0;}#sk-container-id-4 div.sk-serial {display: flex;flex-direction: column;align-items: center;background-color: white;padding-right: 0.2em;padding-left: 0.2em;position: relative;}#sk-container-id-4 div.sk-item {position: relative;z-index: 1;}#sk-container-id-4 div.sk-parallel {display: flex;align-items: stretch;justify-content: center;background-color: white;position: relative;}#sk-container-id-4 div.sk-item::before, #sk-container-id-4 div.sk-parallel-item::before {content: \"\";position: absolute;border-left: 1px solid gray;box-sizing: border-box;top: 0;bottom: 0;left: 50%;z-index: -1;}#sk-container-id-4 div.sk-parallel-item {display: flex;flex-direction: column;z-index: 1;position: relative;background-color: white;}#sk-container-id-4 div.sk-parallel-item:first-child::after {align-self: flex-end;width: 50%;}#sk-container-id-4 div.sk-parallel-item:last-child::after {align-self: flex-start;width: 50%;}#sk-container-id-4 div.sk-parallel-item:only-child::after {width: 0;}#sk-container-id-4 div.sk-dashed-wrapped {border: 1px dashed gray;margin: 0 0.4em 0.5em 0.4em;box-sizing: border-box;padding-bottom: 0.4em;background-color: white;}#sk-container-id-4 div.sk-label label {font-family: monospace;font-weight: bold;display: inline-block;line-height: 1.2em;}#sk-container-id-4 div.sk-label-container {text-align: center;}#sk-container-id-4 div.sk-container {/* jupyter's `normalize.less` sets `[hidden] { display: none; }` but bootstrap.min.css set `[hidden] { display: none !important; }` so we also need the `!important` here to be able to override the default hidden behavior on the sphinx rendered scikit-learn.org. See: https://github.com/scikit-learn/scikit-learn/issues/21755 */display: inline-block !important;position: relative;}#sk-container-id-4 div.sk-text-repr-fallback {display: none;}</style><div id=\"sk-container-id-4\" class=\"sk-top-container\"><div class=\"sk-text-repr-fallback\"><pre>CountVectorizer(binary=True)</pre><b>In a Jupyter environment, please rerun this cell to show the HTML representation or trust the notebook. <br />On GitHub, the HTML representation is unable to render, please try loading this page with nbviewer.org.</b></div><div class=\"sk-container\" hidden><div class=\"sk-item\"><div class=\"sk-estimator sk-toggleable\"><input class=\"sk-toggleable__control sk-hidden--visually\" id=\"sk-estimator-id-4\" type=\"checkbox\" checked><label for=\"sk-estimator-id-4\" class=\"sk-toggleable__label sk-toggleable__label-arrow\">CountVectorizer</label><div class=\"sk-toggleable__content\"><pre>CountVectorizer(binary=True)</pre></div></div></div></div></div>"
      ],
      "text/plain": [
       "CountVectorizer(binary=True)"
      ]
     },
     "execution_count": 31,
     "metadata": {},
     "output_type": "execute_result"
    }
   ],
   "source": [
    "vect.fit(corpus)"
   ]
  },
  {
   "cell_type": "code",
   "execution_count": 32,
   "metadata": {},
   "outputs": [],
   "source": [
    "vocab = vect.vocabulary_"
   ]
  },
  {
   "cell_type": "code",
   "execution_count": 33,
   "metadata": {},
   "outputs": [
    {
     "name": "stdout",
     "output_type": "stream",
     "text": [
      "00:0\n",
      "10:1\n",
      "11:2\n",
      "12:3\n",
      "120:4\n",
      "12p:5\n",
      "14:6\n",
      "14u:7\n",
      "15:8\n",
      "16:9\n",
      "160:10\n",
      "18:11\n",
      "2022:12\n",
      "2023:13\n",
      "21:14\n",
      "23:15\n",
      "29:16\n",
      "30:17\n",
      "75:18\n",
      "84:19\n",
      "86:20\n",
      "across:21\n",
      "advisories:22\n",
      "affecting:23\n",
      "after:24\n",
      "alert:25\n",
      "along:26\n",
      "already:27\n",
      "also:28\n",
      "an:29\n",
      "and:30\n",
      "approached:31\n",
      "area:32\n",
      "areas:33\n",
      "around:34\n",
      "as:35\n",
      "at:36\n",
      "auckland:37\n",
      "australia:38\n",
      "australian:39\n",
      "basin:40\n",
      "became:41\n",
      "before:42\n",
      "began:43\n",
      "being:44\n",
      "bom:45\n",
      "bureau:46\n",
      "by:47\n",
      "category:48\n",
      "center:49\n",
      "classified:50\n",
      "consolidated:51\n",
      "continued:52\n",
      "convection:53\n",
      "coral:54\n",
      "coromandel:55\n",
      "country:56\n",
      "couple:57\n",
      "crossed:58\n",
      "cyclone:59\n",
      "day:60\n",
      "days:61\n",
      "declared:62\n",
      "deep:63\n",
      "degenerated:64\n",
      "developed:65\n",
      "developing:66\n",
      "development:67\n",
      "directly:68\n",
      "discontinued:69\n",
      "downgraded:70\n",
      "drifted:71\n",
      "during:72\n",
      "emergency:73\n",
      "end:74\n",
      "environment:75\n",
      "equivalent:76\n",
      "experience:77\n",
      "extended:78\n",
      "favourable:79\n",
      "february:80\n",
      "fifth:81\n",
      "first:82\n",
      "floods:83\n",
      "for:84\n",
      "from:85\n",
      "further:86\n",
      "gabrielle:87\n",
      "gradually:88\n",
      "had:89\n",
      "heavy:90\n",
      "high:91\n",
      "impacted:92\n",
      "in:93\n",
      "increase:94\n",
      "initiated:95\n",
      "intensify:96\n",
      "intensity:97\n",
      "into:98\n",
      "island:99\n",
      "islands:100\n",
      "issued:101\n",
      "it:102\n",
      "joint:103\n",
      "jtwc:104\n",
      "km:105\n",
      "later:106\n",
      "located:107\n",
      "low:108\n",
      "meteorology:109\n",
      "metservice:110\n",
      "monsoonal:111\n",
      "moved:112\n",
      "moving:113\n",
      "mph:114\n",
      "named:115\n",
      "national:116\n",
      "near:117\n",
      "new:118\n",
      "next:119\n",
      "norfolk:120\n",
      "north:121\n",
      "northeastern:122\n",
      "northwesterly:123\n",
      "noted:124\n",
      "of:125\n",
      "on:126\n",
      "other:127\n",
      "out:128\n",
      "over:129\n",
      "pacific:130\n",
      "passed:131\n",
      "place:132\n",
      "placed:133\n",
      "pressure:134\n",
      "queensland:135\n",
      "rain:136\n",
      "rapidly:137\n",
      "reached:138\n",
      "red:139\n",
      "region:140\n",
      "reported:141\n",
      "responsibility:142\n",
      "result:143\n",
      "ridge:144\n",
      "same:145\n",
      "scale:146\n",
      "sea:147\n",
      "season:148\n",
      "severe:149\n",
      "shear:150\n",
      "slowly:151\n",
      "solomon:152\n",
      "soon:153\n",
      "south:154\n",
      "southwards:155\n",
      "stage:156\n",
      "state:157\n",
      "states:158\n",
      "storm:159\n",
      "subsequently:160\n",
      "subtropical:161\n",
      "surface:162\n",
      "system:163\n",
      "temperatures:164\n",
      "that:165\n",
      "the:166\n",
      "then:167\n",
      "this:168\n",
      "time:169\n",
      "to:170\n",
      "towards:171\n",
      "transitoned:172\n",
      "tropical:173\n",
      "trough:174\n",
      "typhoon:175\n",
      "under:176\n",
      "united:177\n",
      "upgraded:178\n",
      "utc:179\n",
      "vertical:180\n",
      "warm:181\n",
      "warning:182\n",
      "warnings:183\n",
      "was:184\n",
      "were:185\n",
      "westwards:186\n",
      "where:187\n",
      "while:188\n",
      "wind:189\n",
      "winds:190\n",
      "with:191\n",
      "within:192\n",
      "zealand:193\n"
     ]
    }
   ],
   "source": [
    "for key in sorted(vocab.keys()):\n",
    "    print(\"{}:{}\".format(key,vocab[key]))"
   ]
  },
  {
   "cell_type": "code",
   "execution_count": 34,
   "metadata": {},
   "outputs": [
    {
     "data": {
      "text/plain": [
       "array([[0, 0, 0, 0, 0, 0, 0, 0, 0, 0, 0, 0, 0, 0, 0, 0, 0, 0, 0, 0, 0, 0,\n",
       "        0, 1, 0, 0, 0, 0, 0, 0, 0, 0, 0, 1, 0, 0, 0, 0, 0, 0, 0, 0, 0, 0,\n",
       "        0, 0, 0, 0, 0, 0, 0, 0, 0, 0, 0, 0, 0, 0, 0, 1, 0, 0, 0, 0, 0, 0,\n",
       "        0, 0, 0, 0, 0, 0, 0, 0, 0, 0, 0, 0, 0, 0, 0, 0, 0, 0, 0, 0, 0, 1,\n",
       "        0, 0, 0, 0, 0, 0, 0, 0, 0, 0, 0, 0, 0, 0, 0, 0, 0, 0, 0, 0, 0, 0,\n",
       "        0, 0, 0, 0, 0, 0, 0, 0, 1, 0, 0, 0, 0, 0, 0, 0, 0, 0, 0, 0, 0, 0,\n",
       "        0, 0, 0, 0, 0, 0, 0, 0, 0, 0, 0, 0, 0, 0, 0, 0, 0, 1, 0, 0, 0, 0,\n",
       "        0, 0, 0, 0, 0, 0, 0, 0, 0, 0, 0, 0, 0, 0, 0, 0, 0, 0, 0, 1, 0, 0,\n",
       "        0, 0, 0, 0, 0, 0, 0, 0, 1, 0, 0, 0, 0, 0, 0, 0, 1, 1]],\n",
       "      dtype=int64)"
      ]
     },
     "execution_count": 34,
     "metadata": {},
     "output_type": "execute_result"
    }
   ],
   "source": [
    "vect.transform([\"Severe Tropical Cyclone Gabrielle was affecting areas within New Zealand\"]).toarray()"
   ]
  },
  {
   "cell_type": "code",
   "execution_count": 35,
   "metadata": {},
   "outputs": [],
   "source": [
    "from sklearn.metrics.pairwise import cosine_similarity\n",
    "similarity = cosine_similarity(vect.transform([\"Cyclone Gabrielle was a cyclone which hit the coast in New Zealand\"]).toarray(),\n",
    " vect.transform([\"Gabrielle was first noted on 6th Februrary\"]).toarray())"
   ]
  },
  {
   "cell_type": "code",
   "execution_count": 36,
   "metadata": {},
   "outputs": [
    {
     "name": "stdout",
     "output_type": "stream",
     "text": [
      "[[0.3380617]]\n"
     ]
    }
   ],
   "source": [
    "print(similarity)"
   ]
  },
  {
   "cell_type": "code",
   "execution_count": 37,
   "metadata": {},
   "outputs": [],
   "source": [
    "from sklearn.feature_extraction.text import TfidfVectorizer\n",
    "tfidf = TfidfVectorizer(binary=True)"
   ]
  },
  {
   "cell_type": "code",
   "execution_count": 38,
   "metadata": {},
   "outputs": [
    {
     "data": {
      "text/html": [
       "<style>#sk-container-id-5 {color: black;background-color: white;}#sk-container-id-5 pre{padding: 0;}#sk-container-id-5 div.sk-toggleable {background-color: white;}#sk-container-id-5 label.sk-toggleable__label {cursor: pointer;display: block;width: 100%;margin-bottom: 0;padding: 0.3em;box-sizing: border-box;text-align: center;}#sk-container-id-5 label.sk-toggleable__label-arrow:before {content: \"▸\";float: left;margin-right: 0.25em;color: #696969;}#sk-container-id-5 label.sk-toggleable__label-arrow:hover:before {color: black;}#sk-container-id-5 div.sk-estimator:hover label.sk-toggleable__label-arrow:before {color: black;}#sk-container-id-5 div.sk-toggleable__content {max-height: 0;max-width: 0;overflow: hidden;text-align: left;background-color: #f0f8ff;}#sk-container-id-5 div.sk-toggleable__content pre {margin: 0.2em;color: black;border-radius: 0.25em;background-color: #f0f8ff;}#sk-container-id-5 input.sk-toggleable__control:checked~div.sk-toggleable__content {max-height: 200px;max-width: 100%;overflow: auto;}#sk-container-id-5 input.sk-toggleable__control:checked~label.sk-toggleable__label-arrow:before {content: \"▾\";}#sk-container-id-5 div.sk-estimator input.sk-toggleable__control:checked~label.sk-toggleable__label {background-color: #d4ebff;}#sk-container-id-5 div.sk-label input.sk-toggleable__control:checked~label.sk-toggleable__label {background-color: #d4ebff;}#sk-container-id-5 input.sk-hidden--visually {border: 0;clip: rect(1px 1px 1px 1px);clip: rect(1px, 1px, 1px, 1px);height: 1px;margin: -1px;overflow: hidden;padding: 0;position: absolute;width: 1px;}#sk-container-id-5 div.sk-estimator {font-family: monospace;background-color: #f0f8ff;border: 1px dotted black;border-radius: 0.25em;box-sizing: border-box;margin-bottom: 0.5em;}#sk-container-id-5 div.sk-estimator:hover {background-color: #d4ebff;}#sk-container-id-5 div.sk-parallel-item::after {content: \"\";width: 100%;border-bottom: 1px solid gray;flex-grow: 1;}#sk-container-id-5 div.sk-label:hover label.sk-toggleable__label {background-color: #d4ebff;}#sk-container-id-5 div.sk-serial::before {content: \"\";position: absolute;border-left: 1px solid gray;box-sizing: border-box;top: 0;bottom: 0;left: 50%;z-index: 0;}#sk-container-id-5 div.sk-serial {display: flex;flex-direction: column;align-items: center;background-color: white;padding-right: 0.2em;padding-left: 0.2em;position: relative;}#sk-container-id-5 div.sk-item {position: relative;z-index: 1;}#sk-container-id-5 div.sk-parallel {display: flex;align-items: stretch;justify-content: center;background-color: white;position: relative;}#sk-container-id-5 div.sk-item::before, #sk-container-id-5 div.sk-parallel-item::before {content: \"\";position: absolute;border-left: 1px solid gray;box-sizing: border-box;top: 0;bottom: 0;left: 50%;z-index: -1;}#sk-container-id-5 div.sk-parallel-item {display: flex;flex-direction: column;z-index: 1;position: relative;background-color: white;}#sk-container-id-5 div.sk-parallel-item:first-child::after {align-self: flex-end;width: 50%;}#sk-container-id-5 div.sk-parallel-item:last-child::after {align-self: flex-start;width: 50%;}#sk-container-id-5 div.sk-parallel-item:only-child::after {width: 0;}#sk-container-id-5 div.sk-dashed-wrapped {border: 1px dashed gray;margin: 0 0.4em 0.5em 0.4em;box-sizing: border-box;padding-bottom: 0.4em;background-color: white;}#sk-container-id-5 div.sk-label label {font-family: monospace;font-weight: bold;display: inline-block;line-height: 1.2em;}#sk-container-id-5 div.sk-label-container {text-align: center;}#sk-container-id-5 div.sk-container {/* jupyter's `normalize.less` sets `[hidden] { display: none; }` but bootstrap.min.css set `[hidden] { display: none !important; }` so we also need the `!important` here to be able to override the default hidden behavior on the sphinx rendered scikit-learn.org. See: https://github.com/scikit-learn/scikit-learn/issues/21755 */display: inline-block !important;position: relative;}#sk-container-id-5 div.sk-text-repr-fallback {display: none;}</style><div id=\"sk-container-id-5\" class=\"sk-top-container\"><div class=\"sk-text-repr-fallback\"><pre>TfidfVectorizer(binary=True)</pre><b>In a Jupyter environment, please rerun this cell to show the HTML representation or trust the notebook. <br />On GitHub, the HTML representation is unable to render, please try loading this page with nbviewer.org.</b></div><div class=\"sk-container\" hidden><div class=\"sk-item\"><div class=\"sk-estimator sk-toggleable\"><input class=\"sk-toggleable__control sk-hidden--visually\" id=\"sk-estimator-id-5\" type=\"checkbox\" checked><label for=\"sk-estimator-id-5\" class=\"sk-toggleable__label sk-toggleable__label-arrow\">TfidfVectorizer</label><div class=\"sk-toggleable__content\"><pre>TfidfVectorizer(binary=True)</pre></div></div></div></div></div>"
      ],
      "text/plain": [
       "TfidfVectorizer(binary=True)"
      ]
     },
     "execution_count": 38,
     "metadata": {},
     "output_type": "execute_result"
    }
   ],
   "source": [
    "tfidf.fit(corpus)"
   ]
  },
  {
   "cell_type": "code",
   "execution_count": 39,
   "metadata": {},
   "outputs": [],
   "source": [
    "voc = tfidf.vocabulary_"
   ]
  },
  {
   "cell_type": "code",
   "execution_count": 40,
   "metadata": {},
   "outputs": [
    {
     "name": "stdout",
     "output_type": "stream",
     "text": [
      "00:0\n",
      "10:1\n",
      "11:2\n",
      "12:3\n",
      "120:4\n",
      "12p:5\n",
      "14:6\n",
      "14u:7\n",
      "15:8\n",
      "16:9\n",
      "160:10\n",
      "18:11\n",
      "2022:12\n",
      "2023:13\n",
      "21:14\n",
      "23:15\n",
      "29:16\n",
      "30:17\n",
      "75:18\n",
      "84:19\n",
      "86:20\n",
      "across:21\n",
      "advisories:22\n",
      "affecting:23\n",
      "after:24\n",
      "alert:25\n",
      "along:26\n",
      "already:27\n",
      "also:28\n",
      "an:29\n",
      "and:30\n",
      "approached:31\n",
      "area:32\n",
      "areas:33\n",
      "around:34\n",
      "as:35\n",
      "at:36\n",
      "auckland:37\n",
      "australia:38\n",
      "australian:39\n",
      "basin:40\n",
      "became:41\n",
      "before:42\n",
      "began:43\n",
      "being:44\n",
      "bom:45\n",
      "bureau:46\n",
      "by:47\n",
      "category:48\n",
      "center:49\n",
      "classified:50\n",
      "consolidated:51\n",
      "continued:52\n",
      "convection:53\n",
      "coral:54\n",
      "coromandel:55\n",
      "country:56\n",
      "couple:57\n",
      "crossed:58\n",
      "cyclone:59\n",
      "day:60\n",
      "days:61\n",
      "declared:62\n",
      "deep:63\n",
      "degenerated:64\n",
      "developed:65\n",
      "developing:66\n",
      "development:67\n",
      "directly:68\n",
      "discontinued:69\n",
      "downgraded:70\n",
      "drifted:71\n",
      "during:72\n",
      "emergency:73\n",
      "end:74\n",
      "environment:75\n",
      "equivalent:76\n",
      "experience:77\n",
      "extended:78\n",
      "favourable:79\n",
      "february:80\n",
      "fifth:81\n",
      "first:82\n",
      "floods:83\n",
      "for:84\n",
      "from:85\n",
      "further:86\n",
      "gabrielle:87\n",
      "gradually:88\n",
      "had:89\n",
      "heavy:90\n",
      "high:91\n",
      "impacted:92\n",
      "in:93\n",
      "increase:94\n",
      "initiated:95\n",
      "intensify:96\n",
      "intensity:97\n",
      "into:98\n",
      "island:99\n",
      "islands:100\n",
      "issued:101\n",
      "it:102\n",
      "joint:103\n",
      "jtwc:104\n",
      "km:105\n",
      "later:106\n",
      "located:107\n",
      "low:108\n",
      "meteorology:109\n",
      "metservice:110\n",
      "monsoonal:111\n",
      "moved:112\n",
      "moving:113\n",
      "mph:114\n",
      "named:115\n",
      "national:116\n",
      "near:117\n",
      "new:118\n",
      "next:119\n",
      "norfolk:120\n",
      "north:121\n",
      "northeastern:122\n",
      "northwesterly:123\n",
      "noted:124\n",
      "of:125\n",
      "on:126\n",
      "other:127\n",
      "out:128\n",
      "over:129\n",
      "pacific:130\n",
      "passed:131\n",
      "place:132\n",
      "placed:133\n",
      "pressure:134\n",
      "queensland:135\n",
      "rain:136\n",
      "rapidly:137\n",
      "reached:138\n",
      "red:139\n",
      "region:140\n",
      "reported:141\n",
      "responsibility:142\n",
      "result:143\n",
      "ridge:144\n",
      "same:145\n",
      "scale:146\n",
      "sea:147\n",
      "season:148\n",
      "severe:149\n",
      "shear:150\n",
      "slowly:151\n",
      "solomon:152\n",
      "soon:153\n",
      "south:154\n",
      "southwards:155\n",
      "stage:156\n",
      "state:157\n",
      "states:158\n",
      "storm:159\n",
      "subsequently:160\n",
      "subtropical:161\n",
      "surface:162\n",
      "system:163\n",
      "temperatures:164\n",
      "that:165\n",
      "the:166\n",
      "then:167\n",
      "this:168\n",
      "time:169\n",
      "to:170\n",
      "towards:171\n",
      "transitoned:172\n",
      "tropical:173\n",
      "trough:174\n",
      "typhoon:175\n",
      "under:176\n",
      "united:177\n",
      "upgraded:178\n",
      "utc:179\n",
      "vertical:180\n",
      "warm:181\n",
      "warning:182\n",
      "warnings:183\n",
      "was:184\n",
      "were:185\n",
      "westwards:186\n",
      "where:187\n",
      "while:188\n",
      "wind:189\n",
      "winds:190\n",
      "with:191\n",
      "within:192\n",
      "zealand:193\n"
     ]
    }
   ],
   "source": [
    "for key in sorted(voc.keys()):\n",
    "    print(\"{}:{}\".format(key,voc[key]))"
   ]
  },
  {
   "cell_type": "code",
   "execution_count": 41,
   "metadata": {},
   "outputs": [
    {
     "data": {
      "text/plain": [
       "array([[0.        , 0.        , 0.        , 0.        , 0.        ,\n",
       "        0.        , 0.        , 0.        , 0.        , 0.        ,\n",
       "        0.        , 0.        , 0.        , 0.        , 0.        ,\n",
       "        0.        , 0.        , 0.        , 0.        , 0.        ,\n",
       "        0.        , 0.        , 0.        , 0.37867627, 0.        ,\n",
       "        0.        , 0.        , 0.        , 0.        , 0.        ,\n",
       "        0.        , 0.        , 0.        , 0.37867627, 0.        ,\n",
       "        0.        , 0.        , 0.        , 0.        , 0.        ,\n",
       "        0.        , 0.        , 0.        , 0.        , 0.        ,\n",
       "        0.        , 0.        , 0.        , 0.        , 0.        ,\n",
       "        0.        , 0.        , 0.        , 0.        , 0.        ,\n",
       "        0.        , 0.        , 0.        , 0.        , 0.2236523 ,\n",
       "        0.        , 0.        , 0.        , 0.        , 0.        ,\n",
       "        0.        , 0.        , 0.        , 0.        , 0.        ,\n",
       "        0.        , 0.        , 0.        , 0.        , 0.        ,\n",
       "        0.        , 0.        , 0.        , 0.        , 0.        ,\n",
       "        0.        , 0.        , 0.        , 0.        , 0.        ,\n",
       "        0.        , 0.        , 0.2236523 , 0.        , 0.        ,\n",
       "        0.        , 0.        , 0.        , 0.        , 0.        ,\n",
       "        0.        , 0.        , 0.        , 0.        , 0.        ,\n",
       "        0.        , 0.        , 0.        , 0.        , 0.        ,\n",
       "        0.        , 0.        , 0.        , 0.        , 0.        ,\n",
       "        0.        , 0.        , 0.        , 0.        , 0.        ,\n",
       "        0.        , 0.        , 0.        , 0.37867627, 0.        ,\n",
       "        0.        , 0.        , 0.        , 0.        , 0.        ,\n",
       "        0.        , 0.        , 0.        , 0.        , 0.        ,\n",
       "        0.        , 0.        , 0.        , 0.        , 0.        ,\n",
       "        0.        , 0.        , 0.        , 0.        , 0.        ,\n",
       "        0.        , 0.        , 0.        , 0.        , 0.        ,\n",
       "        0.        , 0.        , 0.        , 0.        , 0.28799306,\n",
       "        0.        , 0.        , 0.        , 0.        , 0.        ,\n",
       "        0.        , 0.        , 0.        , 0.        , 0.        ,\n",
       "        0.        , 0.        , 0.        , 0.        , 0.        ,\n",
       "        0.        , 0.        , 0.        , 0.        , 0.        ,\n",
       "        0.        , 0.        , 0.        , 0.2236523 , 0.        ,\n",
       "        0.        , 0.        , 0.        , 0.        , 0.        ,\n",
       "        0.        , 0.        , 0.        , 0.        , 0.2236523 ,\n",
       "        0.        , 0.        , 0.        , 0.        , 0.        ,\n",
       "        0.        , 0.        , 0.37867627, 0.37867627]])"
      ]
     },
     "execution_count": 41,
     "metadata": {},
     "output_type": "execute_result"
    }
   ],
   "source": [
    "tfidf.transform([\"Severe Tropical Cyclone Gabrielle was affecting areas within New Zealand\"]).toarray()"
   ]
  },
  {
   "cell_type": "code",
   "execution_count": 42,
   "metadata": {},
   "outputs": [],
   "source": [
    "from sklearn.metrics.pairwise import cosine_similarity\n",
    "similarity = cosine_similarity(tfidf.transform([\"Cyclone Gabrielle was a cyclone which hit the coast in New Zealand\"]).toarray(),\n",
    " tfidf.transform([\"Gabrielle was first noted on 6th Februrary\"]).toarray())"
   ]
  },
  {
   "cell_type": "code",
   "execution_count": 43,
   "metadata": {},
   "outputs": [
    {
     "name": "stdout",
     "output_type": "stream",
     "text": [
      "[[0.20051332]]\n"
     ]
    }
   ],
   "source": [
    "print(similarity)"
   ]
  },
  {
   "cell_type": "code",
   "execution_count": null,
   "metadata": {},
   "outputs": [],
   "source": []
  }
 ],
 "metadata": {
  "kernelspec": {
   "display_name": "Python 3",
   "language": "python",
   "name": "python3"
  },
  "language_info": {
   "codemirror_mode": {
    "name": "ipython",
    "version": 3
   },
   "file_extension": ".py",
   "mimetype": "text/x-python",
   "name": "python",
   "nbconvert_exporter": "python",
   "pygments_lexer": "ipython3",
   "version": "3.11.1"
  },
  "orig_nbformat": 4,
  "vscode": {
   "interpreter": {
    "hash": "8754cf6e36a979646f1121cb2c487dd5af224c5a00bc0ec56c7f22f8c891038b"
   }
  }
 },
 "nbformat": 4,
 "nbformat_minor": 2
}
