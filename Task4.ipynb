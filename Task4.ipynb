{
 "cells": [
  {
   "attachments": {},
   "cell_type": "markdown",
   "metadata": {},
   "source": [
    "SCRAPING WEB"
   ]
  },
  {
   "cell_type": "code",
   "execution_count": 13,
   "metadata": {},
   "outputs": [],
   "source": [
    "from urllib import request"
   ]
  },
  {
   "cell_type": "code",
   "execution_count": 14,
   "metadata": {},
   "outputs": [],
   "source": [
    "url = \"https://www.gutenberg.org/files/98/98-0.txt\""
   ]
  },
  {
   "cell_type": "code",
   "execution_count": 15,
   "metadata": {},
   "outputs": [],
   "source": [
    "response = request.urlopen(url)"
   ]
  },
  {
   "cell_type": "code",
   "execution_count": 16,
   "metadata": {},
   "outputs": [],
   "source": [
    "raw = response.read().decode('utf8')"
   ]
  },
  {
   "cell_type": "code",
   "execution_count": 17,
   "metadata": {},
   "outputs": [],
   "source": [
    "import nltk\n",
    "from nltk.tokenize import word_tokenize\n",
    "tokens = word_tokenize(raw)"
   ]
  },
  {
   "cell_type": "code",
   "execution_count": 18,
   "metadata": {},
   "outputs": [
    {
     "name": "stdout",
     "output_type": "stream",
     "text": [
      "['\\ufeffThe', 'Project', 'Gutenberg', 'eBook', 'of', 'A', 'Tale', 'of', 'Two', 'Cities', ',', 'by', 'Charles', 'Dickens', 'This', 'eBook', 'is', 'for', 'the', 'use']\n"
     ]
    }
   ],
   "source": [
    "print(tokens[:20])"
   ]
  },
  {
   "cell_type": "code",
   "execution_count": 20,
   "metadata": {},
   "outputs": [],
   "source": [
    "#BeautifulSoup useful for extraction. has lot of language support. Explore this.\n",
    "#PreProcess - RE to clean HTML tags or unnecessary char sequence\n",
    "#PoS tagging"
   ]
  },
  {
   "attachments": {},
   "cell_type": "markdown",
   "metadata": {},
   "source": [
    "Stemmers"
   ]
  },
  {
   "cell_type": "code",
   "execution_count": 25,
   "metadata": {},
   "outputs": [
    {
     "name": "stdout",
     "output_type": "stream",
     "text": [
      "happi\n",
      "joyou\n",
      "cacti\n"
     ]
    }
   ],
   "source": [
    "import nltk\n",
    "from nltk.stem import PorterStemmer\n",
    "porter = PorterStemmer()\n",
    "print(porter.stem('happiness'))\n",
    "print(porter.stem('joyous'))\n",
    "print(porter.stem('cacti'))"
   ]
  },
  {
   "cell_type": "code",
   "execution_count": 27,
   "metadata": {},
   "outputs": [
    {
     "name": "stdout",
     "output_type": "stream",
     "text": [
      "happy\n",
      "joy\n",
      "cact\n"
     ]
    }
   ],
   "source": [
    "import nltk\n",
    "from nltk.stem import LancasterStemmer\n",
    "lancaster = LancasterStemmer()\n",
    "print(lancaster.stem('happiness'))\n",
    "print(lancaster.stem('joyous'))\n",
    "print(lancaster.stem('cacti'))"
   ]
  },
  {
   "cell_type": "code",
   "execution_count": 32,
   "metadata": {},
   "outputs": [
    {
     "name": "stdout",
     "output_type": "stream",
     "text": [
      "s\n",
      "walk\n",
      "runn\n"
     ]
    }
   ],
   "source": [
    "import nltk\n",
    "from nltk.stem import RegexpStemmer\n",
    "regex = RegexpStemmer('ing')\n",
    "print(regex.stem('singing'))\n",
    "print(regex.stem('walking'))\n",
    "print(regex.stem('running'))"
   ]
  },
  {
   "cell_type": "code",
   "execution_count": 38,
   "metadata": {},
   "outputs": [
    {
     "name": "stdout",
     "output_type": "stream",
     "text": [
      "herman\n"
     ]
    }
   ],
   "source": [
    "import nltk\n",
    "from nltk.stem import SnowballStemmer\n",
    "snow = SnowballStemmer('spanish')\n",
    "print(snow.stem('hermanas'))"
   ]
  },
  {
   "cell_type": "code",
   "execution_count": 41,
   "metadata": {},
   "outputs": [
    {
     "name": "stdout",
     "output_type": "stream",
     "text": [
      "bal\n",
      "is\n",
      "predomin\n",
      "a\n",
      "hindu\n",
      "country\n",
      ".\n",
      "bal\n",
      "is\n",
      "known\n",
      "for\n",
      "it\n",
      "elab\n",
      ",\n",
      "tradit\n",
      "dant\n",
      ".\n",
      "the\n",
      "dant\n",
      "is\n",
      "inspir\n",
      "by\n",
      "it\n",
      "hind\n",
      "believ\n",
      ".\n",
      "most\n",
      "of\n",
      "the\n",
      "dant\n",
      "portray\n",
      "tal\n",
      "of\n",
      "good\n",
      "vers\n",
      "evil\n",
      ".\n",
      "to\n",
      "watch\n",
      "the\n",
      "dant\n",
      "is\n",
      "a\n",
      "breathtak\n",
      "expery\n",
      ".\n",
      "lombok\n",
      "has\n",
      "som\n",
      "impress\n",
      "point\n",
      "of\n",
      "interest\n",
      "–\n",
      "the\n",
      "majest\n",
      "gunung\n",
      "rinjan\n",
      "is\n",
      "an\n",
      "act\n",
      "volcano\n",
      ".\n",
      "it\n",
      "is\n",
      "the\n",
      "second\n",
      "highest\n",
      "peak\n",
      "in\n",
      "indones\n",
      ".\n",
      "art\n",
      "is\n",
      "a\n",
      "balines\n",
      "pass\n",
      ".\n",
      "batik\n",
      "paint\n",
      "and\n",
      "carv\n",
      "statu\n",
      "mak\n",
      "popul\n",
      "souvenir\n",
      ".\n",
      "art\n",
      "can\n",
      "be\n",
      "seen\n",
      "whittl\n",
      "and\n",
      "paint\n",
      "on\n",
      "the\n",
      "streets\n",
      ",\n",
      "particul\n",
      "in\n",
      "ubud\n",
      ".\n",
      "it\n",
      "is\n",
      "easy\n",
      "to\n",
      "apprecy\n",
      "each\n",
      "island\n",
      "as\n",
      "an\n",
      "attract\n",
      "tour\n",
      "destin\n",
      ".\n",
      "majest\n",
      "scenery\n",
      ";\n",
      "rich\n",
      "cult\n",
      ";\n",
      "whit\n",
      "sand\n",
      "and\n",
      "warm\n",
      ",\n",
      "az\n",
      "wat\n",
      "draw\n",
      "visit\n",
      "lik\n",
      "magnet\n",
      "every\n",
      "year\n",
      ".\n",
      "snorkel\n",
      "and\n",
      "div\n",
      "around\n",
      "the\n",
      "nearby\n",
      "gil\n",
      "island\n",
      "is\n",
      "magn\n",
      ".\n",
      "marin\n",
      "fish\n",
      ",\n",
      "starf\n",
      ",\n",
      "turtl\n",
      "and\n",
      "cor\n",
      "reef\n",
      "ar\n",
      "pres\n",
      "in\n",
      "abund\n",
      ".\n",
      "bal\n",
      "and\n",
      "lombok\n",
      "ar\n",
      "part\n",
      "of\n",
      "the\n",
      "indones\n",
      "archipelago\n",
      ".\n",
      "bal\n",
      "has\n",
      "som\n",
      "spectacul\n",
      "templ\n",
      ".\n",
      "the\n",
      "most\n",
      "sign\n",
      "is\n",
      "the\n",
      "moth\n",
      "templ\n",
      ",\n",
      "besakih\n",
      ".\n",
      "the\n",
      "inhabit\n",
      "of\n",
      "lombok\n",
      "ar\n",
      "most\n",
      "muslim\n",
      "with\n",
      "a\n",
      "hindu\n",
      "min\n",
      ".\n",
      "lombok\n",
      "remain\n",
      "the\n",
      "most\n",
      "underst\n",
      "of\n",
      "the\n",
      "two\n",
      "island\n",
      ".\n",
      "lombok\n",
      "has\n",
      "sev\n",
      "templ\n",
      "worthy\n",
      "of\n",
      "a\n",
      "visit\n",
      ",\n",
      "though\n",
      "they\n",
      "ar\n",
      "less\n",
      "prol\n",
      ".\n",
      "bal\n",
      "and\n",
      "lombok\n",
      "ar\n",
      "neighbo\n",
      "island\n",
      ".\n"
     ]
    }
   ],
   "source": [
    "text = \"Bali is predominantly a Hindu country. Bali is known for its elaborate, traditional dancing. The dancing is inspired by its Hindi beliefs. Most of the dancing portrays tales of good versus evil. To watch the dancing is a breathtaking experience. Lombok has some impressive points of interest – the majestic Gunung Rinjani is an active volcano. It is the second highest peak in Indonesia. Art is a Balinese passion. Batik paintings and carved statues make popular souvenirs. Artists can be seen whittling and painting on the streets, particularly in Ubud. It is easy to appreciate each island as an attractive tourist destination. Majestic scenery; rich culture; white sands and warm, azure waters draw visitors like magnets every year. Snorkelling and diving around the nearby Gili Islands is magnificent. Marine fish, starfish, turtles and coral reef are present in abundance. Bali and Lombok are part of the Indonesian archipelago. Bali has some spectacular temples. The most significant is the Mother Temple, Besakih. The inhabitants of Lombok are mostly Muslim with a Hindu minority. Lombok remains the most understated of the two islands. Lombok has several temples worthy of a visit, though they are less prolific. Bali and Lombok are neighbouring islands.\"\n",
    "tok = word_tokenize(text)\n",
    "for word in tok:\n",
    "    print(lancaster.stem(word))"
   ]
  },
  {
   "cell_type": "code",
   "execution_count": null,
   "metadata": {},
   "outputs": [],
   "source": []
  }
 ],
 "metadata": {
  "kernelspec": {
   "display_name": "Python 3",
   "language": "python",
   "name": "python3"
  },
  "language_info": {
   "codemirror_mode": {
    "name": "ipython",
    "version": 3
   },
   "file_extension": ".py",
   "mimetype": "text/x-python",
   "name": "python",
   "nbconvert_exporter": "python",
   "pygments_lexer": "ipython3",
   "version": "3.11.1"
  },
  "orig_nbformat": 4,
  "vscode": {
   "interpreter": {
    "hash": "8754cf6e36a979646f1121cb2c487dd5af224c5a00bc0ec56c7f22f8c891038b"
   }
  }
 },
 "nbformat": 4,
 "nbformat_minor": 2
}
